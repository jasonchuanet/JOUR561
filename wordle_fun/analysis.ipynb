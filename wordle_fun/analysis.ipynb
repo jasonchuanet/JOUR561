{
 "cells": [
  {
   "cell_type": "markdown",
   "metadata": {},
   "source": [
    "# Lets take a stab at wordle"
   ]
  },
  {
   "cell_type": "markdown",
   "metadata": {},
   "source": [
    "## What is the best first word?\n",
    "\n",
    "There are many ways to answer. [@tokbyzeb on tiktok](https://www.tiktok.com/@tokbyzeb/video/7058690677634256134) observed there are many heuristics, or measures, that can be used to evaluate words, and that the actual measure of word effectiveness is how many words does each word eliminate (maximize) or how many words are valid guesses (minimize)\n",
    "\n",
    "**Lets first try to replicate his result of \"roate\" minimizing the number of possible words to ≈60.4288**"
   ]
  },
  {
   "cell_type": "markdown",
   "metadata": {},
   "source": [
    "To do that, we need to define what it means to minimize valid words after each guess. Wordle will show correct letters in the correct position, and correct letters in the wrong position.\n",
    "\n",
    "NOTES: I use colorblind mode (Orange, Blue, Gray) but lets use the standard coloring for discussion.\n",
    "\n",
    "### n=1\n",
    "\n",
    "Let's pretend our words are 1 letter. Then it is trivial, with our letter being correct or not. 2 possibilities:\n",
    "- Green\n",
    "- Gray\n",
    "\n",
    "### n=2\n",
    "\n",
    "Now things are tricky. Our guess may have the following evaluations:\n",
    "- ``Green Green`` - We solved it!\n",
    "- ``Yellow Yellow`` - Wrong order\n",
    "- ``Gray Gray`` - Do better\n",
    "\n",
    "The following are not possible.\n",
    "- ``Green Yellow``\n",
    "- ``Yellow Green``\n",
    "\n",
    "### n=3\n",
    "\n",
    "The possibilities are:\n",
    "\n",
    "- ``0 Green 0 Yellow 3 Gray``\n",
    "- ``0 Green 1 Yellow 2 Gray``\n",
    "- ``1 Green 0 Yellow 2 Gray``\n",
    "- ``0 Green 2 Yellow 1 Gray``\n",
    "- ``1 Green 1 Yellow 1 Gray``\n",
    "- ``2 Green 0 Yellow 1 Gray``\n",
    "- ``0 Green 3 Yellow 0 Gray``\n",
    "- ``1 Green 2 Yellow 0 Gray``\n",
    "- ``2 Green 1 Yellow 0 Gray`` - NOT POSSIBLE\n",
    "- ``3 Green 0 Yellow 0 Gray``\n",
    "\n",
    "### Duplicate letters\n",
    "\n",
    "A letter will only be green or yellow as many times is it occurs in the answer.\n",
    "\n",
    "Thanks [/u/Humdrumbee on reddit](https://www.reddit.com/r/wordle/comments/ry49ne/illustration_of_what_happens_when_your_guess_has/)!\n",
    "\n"
   ]
  },
  {
   "cell_type": "code",
   "execution_count": 1,
   "metadata": {},
   "outputs": [],
   "source": [
    "import json\n",
    "import copy\n",
    "import csv\n",
    "import statistics\n",
    "\n",
    "# The wordlists from wordle are seperated into two lists\n",
    "# One is valid guesses\n",
    "def make_list():\n",
    "    la = json.load(open('la.json'))\n",
    "    ta = json.load(open('ta.json'))\n",
    "    return la+ta\n",
    "\n",
    "wordle_valid = make_list()\n",
    "wordle_answers = json.load(open('la.json'))\n"
   ]
  },
  {
   "cell_type": "markdown",
   "metadata": {},
   "source": [
    "## How does elimination work?\n",
    "Every time we guess a word, the number of possible solutions goes down, but how?\n",
    "\n",
    "- If a letter is green, every word that does not have the same letter is that position, is pruned\n",
    "- If a letter is yellow, every word that does not contain that letter is pruned\n",
    "- If a letter is yellow, every word that has that letter in the same position in pruned\n",
    "- If a letter is grey, every word that has the letter, in any position, is pruned\n",
    "\n",
    "This implies we should test our word against every possible solution and for each we can then evaluate the word's performance"
   ]
  },
  {
   "cell_type": "code",
   "execution_count": 2,
   "metadata": {},
   "outputs": [],
   "source": [
    "def score(test_word, solution_list, answer_list):\n",
    "    # How many words are still solution guesses, after guessing this word?\n",
    "\n",
    "    ##Some constants\n",
    "    GREEN = 10\n",
    "    YELLOW = 5\n",
    "    GRAY = 0\n",
    "\n",
    "    test_word_characters = list(test_word)\n",
    "    amount_remaining_words = []\n",
    "\n",
    "    # Loop over every possible answer\n",
    "    for answer in answer_list:\n",
    "        possible_solutions = copy.deepcopy(solution_list)\n",
    "        answer_characters = list(answer)\n",
    "        evaluation = [GRAY,GRAY,GRAY,GRAY,GRAY] # Green, Yellow, or Gray\n",
    "        # Color the letters Green\n",
    "        for index in range(0,5):\n",
    "            if test_word_characters[index] == answer_characters[index]:\n",
    "                evaluation[index] = GREEN\n",
    "                answer_characters[index] = \" \"\n",
    "        # Color the letters yellow\n",
    "        for index in range(0,5):\n",
    "            if test_word_characters[index] in answer_characters: \n",
    "                # If this character is repeated in the answer, \n",
    "                evaluation[index] = YELLOW\n",
    "                answer_characters[answer_characters.index(test_word_characters[index])] = \" \"\n",
    "\n",
    "\n",
    "        # Prune based on evaluation colors\n",
    "        for index in range(0,5):\n",
    "            for solution in possible_solutions:\n",
    "                #- If a letter is green, every word that does not have the same letter is that position, is pruned\n",
    "                if (evaluation[index] == GREEN):\n",
    "                    if test_word[index] != solution[index]:\n",
    "                        possible_solutions.remove(solution)\n",
    "                        continue\n",
    "                #- If a letter is yellow,\n",
    "                if (evaluation[index] == YELLOW):\n",
    "                    # every word that has that letter in the same position in pruned\n",
    "                    if test_word[index] == solution[index]:\n",
    "                        possible_solutions.remove(solution)\n",
    "                        continue\n",
    "                    # every word that does not contain that letter is pruned\n",
    "                    if test_word[index] not in solution:\n",
    "                        possible_solutions.remove(solution)\n",
    "                        continue\n",
    "                 #- If a letter is grey, every word that has the letter, in any position, is pruned\n",
    "                if (evaluation[index] == GRAY):\n",
    "                    if test_word[index] in solution:\n",
    "                        possible_solutions.remove(solution)\n",
    "                        continue\n",
    "        amount_remaining_words.append(len(possible_solutions))\n",
    "    #return sum(amount_remaining_words)/len(amount_remaining_words)\n",
    "    return median(amount_remaining_words)"
   ]
  },
  {
   "cell_type": "code",
   "execution_count": 3,
   "metadata": {},
   "outputs": [],
   "source": [
    "with open('scores.csv', 'w') as f:\n",
    "    writer = csv.writer(f)\n",
    "\n",
    "    for word in wordle_valid:\n",
    "        score = score(word, wordle_valid, wordle_valid)\n",
    "        result = word + score\n",
    "        print(result)\n",
    "        writer.writerow(result)"
   ]
  }
 ],
 "metadata": {
  "interpreter": {
   "hash": "e7cb1b9ae4d417fedf7f40a8eec98f7cfbd359e096bd857395a915f4609834ce"
  },
  "kernelspec": {
   "display_name": "Python 3.8.12 64-bit ('base': conda)",
   "language": "python",
   "name": "python3"
  },
  "language_info": {
   "codemirror_mode": {
    "name": "ipython",
    "version": 3
   },
   "file_extension": ".py",
   "mimetype": "text/x-python",
   "name": "python",
   "nbconvert_exporter": "python",
   "pygments_lexer": "ipython3",
   "version": "3.8.12"
  },
  "orig_nbformat": 4
 },
 "nbformat": 4,
 "nbformat_minor": 2
}
