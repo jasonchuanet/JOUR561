{
 "cells": [
  {
   "cell_type": "code",
   "execution_count": 1,
   "metadata": {},
   "outputs": [],
   "source": [
    "import json\n",
    "import copy\n",
    "import csv\n",
    "import statistics\n",
    "import wordle_lists"
   ]
  },
  {
   "cell_type": "code",
   "execution_count": 77,
   "metadata": {},
   "outputs": [
    {
     "name": "stdout",
     "output_type": "stream",
     "text": [
      "10657\n",
      "10347.906695464362\n"
     ]
    }
   ],
   "source": [
    "def score(test_word, word_list, answer_list):\n",
    "    # How many words are still solution guesses, after guessing this word?\n",
    "\n",
    "    ##Some constants\n",
    "    GREEN = 10\n",
    "    YELLOW = 5\n",
    "    GRAY = 0\n",
    "\n",
    "    test_word_characters = list(test_word)\n",
    "    amount_remaining_words = []\n",
    "\n",
    "    # Loop over every possible answer\n",
    "    for answer in answer_list:\n",
    "        #possible_solutions = copy.copy(solution_list)\n",
    "        answer_characters = list(answer)\n",
    "        evaluation = [GRAY,GRAY,GRAY,GRAY,GRAY] # Green, Yellow, or Gray\n",
    "        # Color the letters Green\n",
    "        for index in range(0,5):\n",
    "            if test_word_characters[index] == answer_characters[index]:\n",
    "                evaluation[index] = GREEN\n",
    "                answer_characters[index] = \" \"\n",
    "        # Color the letters yellow\n",
    "        for index in range(0,5):\n",
    "            if test_word_characters[index] in answer_characters: \n",
    "                # If this character is repeated in the answer, \n",
    "                evaluation[index] = YELLOW\n",
    "                answer_characters[answer_characters.index(test_word_characters[index])] = \" \"\n",
    "\n",
    "        pruned_words = 0\n",
    "        # Prune based on evaluation colors\n",
    "        for solution in word_list:\n",
    "            try:\n",
    "                for index in range(0,5):\n",
    "                    #- If a letter is green, every word that does not have the same letter is that position, is pruned\n",
    "                    if (evaluation[index] == GREEN):\n",
    "                        if test_word[index] != solution[index]:\n",
    "                            raise Exception(\"Pruned, Green. Letter: \"+ test_word[index])\n",
    "                    #- If a letter is yellow,\n",
    "                    if (evaluation[index] == YELLOW):\n",
    "                        # every word that has that letter in the same position in pruned\n",
    "                        if test_word[index] == solution[index]:\n",
    "                            raise Exception(\"Pruned, Yellow Position. Letter: \"+ test_word[index])\n",
    "                        # every word that does not contain that letter is pruned\n",
    "                        if test_word[index] not in solution:\n",
    "                            raise Exception(\"Pruned, Yellow not containing. Letter: \"+ test_word[index])\n",
    "                    #- If a letter is grey, every word that has the letter, in any position, is pruned\n",
    "                    if (evaluation[index] == GRAY):\n",
    "                        if test_word[index] in solution:\n",
    "                            raise Exception(\"Pruned, Gray. Letter: \"+ test_word[index])\n",
    "                #print(test_word,answer,solution, evaluation, \"PASS\")\n",
    "            except BaseException as reason:\n",
    "                #print(test_word,answer,solution, evaluation, reason)\n",
    "                pruned_words += 1\n",
    "            finally:\n",
    "                #print(test_word,solution, evaluation)\n",
    "                pass\n",
    "        amount_remaining_words.append(pruned_words)\n",
    "            \n",
    "    #return sum(amount_remaining_words)/len(amount_remaining_words)\n",
    "    #return median(amount_remaining_words)\n",
    "    return test_word, amount_remaining_words\n",
    "\n",
    "test_set = [\"union\", \"annal\", \"alloy\", \"banal\", \"flick\", \"roate\"]\n",
    "test_set = [\"cigar\",\"rebut\",\"sissy\",\"humph\",\"awake\",\"blush\",\"focal\",\"evade\",\"naval\",\"serve\",\"heath\",\"dwarf\",\"model\",\"karma\",\"stink\",\"grade\",\"quiet\",\"bench\",\"abate\",\"feign\",\"major\",\"death\",\"fresh\",\"crust\",\"stool\",\"colon\",\"abase\",\"marry\",\"react\",\"batty\",\"pride\",\"floss\",\"helix\",\"croak\",\"staff\",\"paper\",\"unfed\",\"whelp\",\"trawl\",\"outdo\",\"adobe\",\"crazy\",\"sower\",\"repay\",\"digit\",\"crate\",\"cluck\",\"spike\",\"mimic\",\"pound\",\"maxim\",\"linen\",\"unmet\",\"flesh\",\"booby\",\"forth\",\"first\",\"stand\",\"belly\",\"ivory\",\"seedy\",\"print\",\"yearn\",\"drain\"]\n",
    "\n",
    "word = \"roate\"\n",
    "valid_set = wordle_lists.valid\n",
    "solution_set = wordle_lists.answers\n",
    "\n",
    "result = score(word, valid_set, solution_set)\n",
    "#print(result)\n",
    "print(len(valid_set))\n",
    "print(((sum(result[1]))/len(solution_set)))"
   ]
  },
  {
   "cell_type": "code",
   "execution_count": 78,
   "metadata": {},
   "outputs": [
    {
     "name": "stdout",
     "output_type": "stream",
     "text": [
      "10657\n",
      "10434.507127429806\n"
     ]
    }
   ],
   "source": [
    "word = \"soare\"\n",
    "valid_set = wordle_lists.valid\n",
    "solution_set = wordle_lists.answers\n",
    "\n",
    "result = score(word, valid_set, solution_set)\n",
    "#print(result)\n",
    "print(len(valid_set))\n",
    "print(((sum(result[1]))/len(solution_set)))"
   ]
  },
  {
   "cell_type": "code",
   "execution_count": 79,
   "metadata": {},
   "outputs": [
    {
     "name": "stdout",
     "output_type": "stream",
     "text": [
      "10657\n",
      "10447.917494600431\n"
     ]
    }
   ],
   "source": [
    "word = \"lares\"\n",
    "valid_set = wordle_lists.valid\n",
    "solution_set = wordle_lists.answers\n",
    "\n",
    "result = score(word, valid_set, solution_set)\n",
    "#print(result)\n",
    "print(len(valid_set))\n",
    "print(((sum(result[1]))/len(solution_set)))"
   ]
  }
 ],
 "metadata": {
  "interpreter": {
   "hash": "e7cb1b9ae4d417fedf7f40a8eec98f7cfbd359e096bd857395a915f4609834ce"
  },
  "kernelspec": {
   "display_name": "Python 3.9.10 64-bit ('base': conda)",
   "language": "python",
   "name": "python3"
  },
  "language_info": {
   "codemirror_mode": {
    "name": "ipython",
    "version": 3
   },
   "file_extension": ".py",
   "mimetype": "text/x-python",
   "name": "python",
   "nbconvert_exporter": "python",
   "pygments_lexer": "ipython3",
   "version": "3.9.10"
  },
  "orig_nbformat": 4
 },
 "nbformat": 4,
 "nbformat_minor": 2
}
